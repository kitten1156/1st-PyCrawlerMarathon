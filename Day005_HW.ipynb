{
 "cells": [
  {
   "cell_type": "markdown",
   "metadata": {},
   "source": [
    "# API 資料串接 - 以 Dcard API 實作範例\n",
    "\n",
    "* 了解 Dcard API 使用方式與回傳內容\n",
    "* 撰寫程式存取 API 且解析 JSON 格式資料"
   ]
  },
  {
   "cell_type": "markdown",
   "metadata": {},
   "source": [
    "## 作業目標\n",
    "\n",
    "* 請利用 API: https://www.dcard.tw/_api/forums/pet/posts?popular=true 回答下列問題：\n",
    "\n",
    "1. 這個 API 一次會回傳幾筆資料？每一筆資料包含哪些欄位？\n",
    "2. 取出每一筆資料的「標題」、「貼文時間」、「留言人數」、「按讚人數」\n",
    "3. 計算熱門/非熱門文章的「平均留言人數」與「平均按讚人數」"
   ]
  },
  {
   "cell_type": "code",
   "execution_count": 15,
   "metadata": {},
   "outputs": [
    {
     "name": "stdout",
     "output_type": "stream",
     "text": [
      "30\n",
      "dict_keys(['id', 'title', 'excerpt', 'anonymousSchool', 'anonymousDepartment', 'pinned', 'forumId', 'replyId', 'createdAt', 'updatedAt', 'commentCount', 'likeCount', 'withNickname', 'tags', 'topics', 'meta', 'forumName', 'forumAlias', 'gender', 'school', 'replyTitle', 'mediaMeta', 'reactions', 'hidden', 'customStyle', 'isSuspiciousAccount', 'layout', 'withImages', 'withVideos', 'media', 'reportReasonText', 'postAvatar'])\n"
     ]
    }
   ],
   "source": [
    "# 1. 這個 API 一次會回傳幾筆資料？每一筆資料包含哪些欄位？\n",
    "import requests\n",
    "r = requests.get(\"https://www.dcard.tw/_api/forums/pet/posts?popular=true\")\n",
    "import json\n",
    "jr = json.loads(r.text)\n",
    "#1. 這個 API 一次會回傳幾筆資料？\n",
    "print(len(jr))\n",
    "# 每一筆資料包含哪些欄位？\n",
    "p = jr[0]\n",
    "print(p.keys())"
   ]
  },
  {
   "cell_type": "code",
   "execution_count": 17,
   "metadata": {},
   "outputs": [
    {
     "name": "stdout",
     "output_type": "stream",
     "text": [
      "最近刺蝟有點苦惱…… 2019-11-27T14:09:04.187Z 28 1316\n",
      "貓咪送養 2019-11-27T15:53:37.579Z 9 165\n",
      "跪求原圖 2019-11-27T09:03:30.781Z 7 110\n",
      "這些狗你認識嗎😍 2019-11-28T04:08:18.539Z 7 89\n",
      "教不到2天就會握手的貓？！ 2019-11-27T19:05:47.181Z 29 67\n",
      "小cookie 一歲生日嘍 2019-11-27T13:29:28.841Z 6 60\n",
      "充滿柴柴的人生❤️ 2019-11-28T07:19:45.391Z 2 58\n",
      "#圖多 偷看🐹上廁所...... 2019-11-28T13:44:17.224Z 12 46\n",
      "兔子吃草a跩樣 2019-11-27T17:48:07.040Z 4 40\n",
      "開箱ㄐㄅ貓貓 2019-11-27T16:20:13.198Z 1 40\n",
      "送養貓咪 2019-11-27T14:33:01.950Z 2 37\n",
      "耐ㄍ⋯ 2019-11-27T16:36:38.742Z 8 36\n",
      "請問這樣算不算虐貓 2019-11-28T09:04:40.825Z 12 32\n",
      "兄弟貓🧐 2019-11-28T12:25:11.285Z 3 28\n",
      "紙袋破壞王🏆 2019-11-28T09:43:33.709Z 2 28\n",
      "妳的柯基犬很可愛 2019-11-27T12:15:40.192Z 12 26\n",
      "沒有責任感根本沒資格養寵物 2019-11-28T11:47:21.176Z 3 25\n",
      "高科大校板的遺失倉鼠 2019-11-28T05:23:12.530Z 0 24\n",
      "尋貓啟示 更新#高雄岡山岡燕路全聯附近 2019-11-27T11:11:21.836Z 10 24\n",
      "幼貓送養文 2019-11-28T02:52:25.651Z 4 23\n",
      "蛇蛇吃飯（不喜勿入喔 2019-11-27T07:36:04.550Z 12 22\n",
      "請問有人的柴犬走失嗎？(已找到失主，謝謝大家的幫忙🙏） 2019-11-28T14:57:09.825Z 3 18\n",
      "#募款 #貓 愛在街角，守護浪貓 2019-11-28T07:11:04.741Z 1 18\n",
      "幼貓送養🐱 2019-11-28T13:38:34.117Z 4 17\n",
      "貓咪要如何避免被自己的💩臭死？ 2019-11-27T14:33:19.704Z 2 16\n",
      "終於知道去哪裡學來的睡姿⋯⋯ 2019-11-27T08:59:09.803Z 8 16\n",
      "#圖 柴柴 你能懂我的明白嗎？ 2019-11-28T16:22:31.895Z 1 14\n",
      "當我的貓和海豹都是一個囧臉 2019-11-28T05:35:09.787Z 3 13\n",
      "求吸鴨地點 2019-11-28T03:29:49.177Z 5 13\n",
      "天冷怎麼辦ಥ_ಥ #柯基#圖多 2019-11-28T15:47:50.708Z 0 12\n"
     ]
    }
   ],
   "source": [
    "# 2. 取出每一筆資料的「標題」、「貼文時間」、「留言人數」、「按讚人數」\n",
    "for i in jr:\n",
    "    print(\"%s %s %s %s\"%(i[\"title\"],i[\"createdAt\"],i[\"commentCount\"],i[\"likeCount\"]))"
   ]
  },
  {
   "cell_type": "code",
   "execution_count": 19,
   "metadata": {},
   "outputs": [
    {
     "name": "stdout",
     "output_type": "stream",
     "text": [
      "熱門的平均留言人數6.666666666666667 \t 平均按讚人數81.1\n",
      "非熱門的平均留言人數2.466666666666667 \t 平均按讚人數12.066666666666666\n"
     ]
    }
   ],
   "source": [
    "# 3. 計算熱門/非熱門文章的「平均留言人數」與「平均按讚人數」\n",
    "import requests\n",
    "import json\n",
    "r = requests.get(\"https://www.dcard.tw/_api/forums/pet/posts?popular=true\")\n",
    "jr = json.loads(r.text)\n",
    "comment = 0\n",
    "like = 0\n",
    "for i in jr:\n",
    "    comment += i[\"commentCount\"]\n",
    "    like += i[\"likeCount\"]\n",
    "print(\"熱門的平均留言人數%s \\t 平均按讚人數%s\"%(comment/len(jr),like/len(jr)))\n",
    "r = requests.get(\"https://www.dcard.tw/_api/forums/pet/posts?popular=false\")\n",
    "jr = json.loads(r.text)\n",
    "comment = 0\n",
    "like = 0\n",
    "for i in jr:\n",
    "    comment += i[\"commentCount\"]\n",
    "    like += i[\"likeCount\"]\n",
    "print(\"非熱門的平均留言人數%s \\t 平均按讚人數%s\"%(comment/len(jr),like/len(jr)))"
   ]
  },
  {
   "cell_type": "code",
   "execution_count": null,
   "metadata": {},
   "outputs": [],
   "source": []
  },
  {
   "cell_type": "code",
   "execution_count": null,
   "metadata": {},
   "outputs": [],
   "source": []
  }
 ],
 "metadata": {
  "kernelspec": {
   "display_name": "Python 3",
   "language": "python",
   "name": "python3"
  },
  "language_info": {
   "codemirror_mode": {
    "name": "ipython",
    "version": 3
   },
   "file_extension": ".py",
   "mimetype": "text/x-python",
   "name": "python",
   "nbconvert_exporter": "python",
   "pygments_lexer": "ipython3",
   "version": "3.7.4"
  }
 },
 "nbformat": 4,
 "nbformat_minor": 2
}
