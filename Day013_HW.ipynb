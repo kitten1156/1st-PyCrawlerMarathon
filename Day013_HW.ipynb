{
 "cells": [
  {
   "cell_type": "markdown",
   "metadata": {},
   "source": [
    "# PTT 網路爬蟲實作練習\n",
    "\n",
    "\n",
    "* 能夠利用 Request + BeatifulSour 撰寫爬蟲，並存放到合適的資料結構\n"
   ]
  },
  {
   "cell_type": "markdown",
   "metadata": {},
   "source": [
    "## 作業目標\n",
    "\n",
    "根據範例 ，完成以下問題：\n",
    "\n",
    "* ① 印出最新文章的「作者」「標題」「時間」\n",
    "* ② 印出第一頁所有文章的「作者」「標題」「時間」\n"
   ]
  },
  {
   "cell_type": "markdown",
   "metadata": {},
   "source": [
    "### ① 印出最新文章的「作者」「標題」「時間」"
   ]
  },
  {
   "cell_type": "code",
   "execution_count": 9,
   "metadata": {},
   "outputs": [
    {
     "name": "stdout",
     "output_type": "stream",
     "text": [
      "la1aco [討論] 本季到目前最讓你另眼相看的球員 12/14\n",
      "arx55522 [討論] BG跟Love是不是溢價PF難兄難弟 12/14\n",
      "GOBS Re: [情報] Doncic想重現Wade和James經典灌籃照 12/14\n",
      "forwardgo [討論] 吉米巴特勒的成就是不是已經超越玫瑰了 12/14\n",
      "sam369 Re: [討論] 吉米巴特勒的成就是不是已經超越玫瑰了 12/14\n",
      "Yui5 [新聞] 唐西奇等人西班牙語也通 獨行俠猛圈粉拉 12/14\n",
      "manuginobii [情報] 尼克連勝後 勇士是本季唯一沒有連勝的隊 12/14\n",
      "mascotliao Re: [討論] 吉米巴特勒的成就是不是已經超越玫瑰了 12/14\n",
      "s785602 [討論] 西河生涯是不是完勝玫瑰? 12/14\n",
      "- (已被V刪除) <raysbuck>仿標題系列文鬧板 退 12/14\n",
      "Vedan [公告] 請勿仿造標題，意圖製造系列文鬧板 12/14\n",
      "Vedan [公告] 板規v6.6 5/24\n",
      "Vedan [公告] 樂透取消及未來不再開啟樂透 6/24\n",
      "qazwsx879345 [公告] 版主上任相關事項 10/25\n",
      "JerroLi [情報] SEASON Schedule 賽程 December 19–20 11/29\n",
      "dragon803 [公告]是否禁止basketball top 5文章投票開始 12/08\n"
     ]
    }
   ],
   "source": [
    "import requests\n",
    "from bs4 import BeautifulSoup\n",
    "\n",
    "url = 'https://www.ptt.cc/bbs/NBA/index.html'\n",
    "r = requests.get(url)\n",
    "\n",
    "soup = BeautifulSoup(r.text, \"html5lib\")\n",
    "for i in soup.find_all(class_=\"r-ent\"):\n",
    "    #print(i)\n",
    "    print(i.find_all(class_=\"author\")[-1].text.strip(),i.find_all(class_=\"title\")[-1].text.strip(),i.find_all(class_=\"date\")[-1].text.strip())"
   ]
  },
  {
   "cell_type": "markdown",
   "metadata": {},
   "source": [
    "### ② 印出第一頁所有文章的「作者」「標題」「時間」"
   ]
  },
  {
   "cell_type": "code",
   "execution_count": 10,
   "metadata": {},
   "outputs": [
    {
     "name": "stdout",
     "output_type": "stream",
     "text": [
      "Price [轉錄]Lyotard 對於太陽板討論串的結論 5/16\n",
      "Price [公告] 請停止一切關於本次活動的發言 5/31\n",
      "Frankaze [轉錄]跟之前那篇比起來 我覺得這篇也應該轉過來 6/08\n",
      "Frankaze [轉錄]再轉一篇好文來 6/08\n",
      "Price [轉錄][情報] 夏洛特山貓系列 6/10\n",
      "Price [轉錄]Re: [心得] 真是受不了糗爺.... 6/10\n",
      "Price [轉錄]總冠軍賽NO.2觀後感 6/10\n",
      "AmuroNamie [心得] Rasheed Wallace 6/11\n",
      "toptree 掌控球賽的男人 6/12\n",
      "skchang [閒聊] 說說2004季後賽名場面回顧 6/12\n",
      "shineup [心得] 其實說穿了 就是活塞的防守太可怕了 6/12\n",
      "cOvi Re: [閒聊] 說說2004季後賽名場面回顧 6/12\n",
      "ykshih Re: [閒聊] 說說2004季後賽名場面回顧 6/12\n",
      "Frankaze Re: [閒聊] 說說2004季後賽名場面回顧 6/12\n",
      "Price [轉錄]Re: 總冠軍賽NO.3觀後感 6/14\n",
      "Frankaze [轉錄]Re: 總冠軍賽NO.3觀後感 6/14\n",
      "star1 Re: [轉錄]Re: 總冠軍賽NO.3觀後感 6/14\n",
      "coldspring Re: [轉錄]Re: 總冠軍賽NO.3觀後感 6/14\n",
      "airbear Re: Kobe is frustrated... 6/14\n",
      "pennykidd Re: [轉錄]Re: 總冠軍賽NO.3觀後感 6/14\n"
     ]
    }
   ],
   "source": [
    "url = 'https://www.ptt.cc/bbs/NBA/index1.html'\n",
    "r = requests.get(url)\n",
    "soup = BeautifulSoup(r.text, \"html5lib\")\n",
    "for i in soup.find_all(class_=\"r-ent\"):\n",
    "    #print(i)\n",
    "    print(i.find_all(class_=\"author\")[-1].text.strip(),i.find_all(class_=\"title\")[-1].text.strip(),i.find_all(class_=\"date\")[-1].text.strip())"
   ]
  },
  {
   "cell_type": "markdown",
   "metadata": {},
   "source": [
    "### ③ 試著爬爬看其他版的文章"
   ]
  },
  {
   "cell_type": "code",
   "execution_count": 11,
   "metadata": {},
   "outputs": [
    {
     "name": "stdout",
     "output_type": "stream",
     "text": [
      "racism [情報] 欣亞 airpods $4,199 12/14\n",
      "- (本文已被刪除) [keigos] 12/14\n",
      "harukashu [情報] 康是美 珂潤洗顏慕斯$175 12/14\n",
      "jiern Re: [討論] 電動牙刷 12/14\n",
      "iambully 用社區幫APP消費送全家咖啡 12/14\n",
      "kadasaki [公告] 省錢板板規 2018.11.12 6/11\n",
      "kadasaki [公告] 違規檢舉區 3/19\n",
      "medama [公告] 未滿1元之集點資訊 請集中在本篇推文 11/24\n"
     ]
    }
   ],
   "source": [
    "url = 'https://www.ptt.cc/bbs/Lifeismoney/index.html'\n",
    "r = requests.get(url)\n",
    "soup = BeautifulSoup(r.text, \"html5lib\")\n",
    "for i in soup.find_all(class_=\"r-ent\"):\n",
    "    #print(i)\n",
    "    print(i.find_all(class_=\"author\")[-1].text.strip(),i.find_all(class_=\"title\")[-1].text.strip(),i.find_all(class_=\"date\")[-1].text.strip())\n"
   ]
  },
  {
   "cell_type": "code",
   "execution_count": null,
   "metadata": {},
   "outputs": [],
   "source": []
  }
 ],
 "metadata": {
  "kernelspec": {
   "display_name": "Python 3",
   "language": "python",
   "name": "python3"
  },
  "language_info": {
   "codemirror_mode": {
    "name": "ipython",
    "version": 3
   },
   "file_extension": ".py",
   "mimetype": "text/x-python",
   "name": "python",
   "nbconvert_exporter": "python",
   "pygments_lexer": "ipython3",
   "version": "3.7.3"
  }
 },
 "nbformat": 4,
 "nbformat_minor": 2
}
